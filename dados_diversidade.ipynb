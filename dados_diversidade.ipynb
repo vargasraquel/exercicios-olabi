{
 "cells": [
  {
   "cell_type": "markdown",
   "metadata": {},
   "source": [
    "# Coleta de dados"
   ]
  },
  {
   "cell_type": "code",
   "execution_count": null,
   "metadata": {},
   "outputs": [],
   "source": [
    "# Importando o módulo de coleta de dados\n",
    "from coleta_dados import ler_dados_diversidade\n",
    "\n",
    "# Lendo um arquivo CSV com dados de diversidade\n",
    "dados_diversidade = ler_dados_diversidade('/content/dar_intersectional_attrition_index.csv')"
   ]
  },
  {
   "cell_type": "markdown",
   "metadata": {},
   "source": [
    "# Processamento de dados"
   ]
  },
  {
   "cell_type": "code",
   "execution_count": null,
   "metadata": {},
   "outputs": [],
   "source": [
    "# Importando o módulo de processamento de dados\n",
    "from processamento_dados import calcular_porcentagem_genero, calcular_media_racial_por_ano\n",
    "\n",
    "# Calculando a porcentagem de mulheres\n",
    "porcentagem_mulheres = calcular_porcentagem_genero(dados_diversidade, genero='women', ano=2021)\n",
    "\n",
    "# Calculando a média de funcionários negros no workforce 'non_tech' em 2021\n",
    "media_negros_2021 = calcular_media_racial_por_ano(dados_diversidade, ano=2021, raca_coluna=4)"
   ]
  },
  {
   "cell_type": "markdown",
   "metadata": {},
   "source": [
    "# Escrita dados"
   ]
  },
  {
   "cell_type": "code",
   "execution_count": null,
   "metadata": {},
   "outputs": [],
   "source": [
    "# Importando o módulo de escrita de dados\n",
    "from escrita_dados import salvar_relatorio_csv\n",
    "\n",
    "# Salvando os resultados em um arquivo CSV\n",
    "resultados_csv = [['Métrica', 'Valor'],\n",
    "                  ['Porcentagem de Mulheres', porcentagem_mulheres],\n",
    "                  ['Média de Negros em Non-Tech (2021)', media_negros_2021]]\n",
    "salvar_relatorio_csv('resultados_diversidade.csv', resultados_csv)\n"
   ]
  }
 ],
 "metadata": {
  "language_info": {
   "name": "python"
  }
 },
 "nbformat": 4,
 "nbformat_minor": 2
}
